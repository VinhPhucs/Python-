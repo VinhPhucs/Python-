{
  "nbformat": 4,
  "nbformat_minor": 0,
  "metadata": {
    "colab": {
      "name": "Untitled0.ipynb",
      "provenance": [],
      "authorship_tag": "ABX9TyOhfsA3fqAWGz6rtuLSo3oF",
      "include_colab_link": true
    },
    "kernelspec": {
      "name": "python3",
      "display_name": "Python 3"
    },
    "language_info": {
      "name": "python"
    }
  },
  "cells": [
    {
      "cell_type": "markdown",
      "metadata": {
        "id": "view-in-github",
        "colab_type": "text"
      },
      "source": [
        "<a href=\"https://colab.research.google.com/github/VinhPhucs/Python-/blob/main/Lab2/Chuong8%2C9.ipynb\" target=\"_parent\"><img src=\"https://colab.research.google.com/assets/colab-badge.svg\" alt=\"Open In Colab\"/></a>"
      ]
    },
    {
      "cell_type": "markdown",
      "metadata": {
        "id": "aW7YM_73-BJk"
      },
      "source": [
        "**Chương 8**"
      ]
    },
    {
      "cell_type": "markdown",
      "metadata": {
        "id": "sTfGGbGgzvzx"
      },
      "source": [
        "**Câu 1**"
      ]
    },
    {
      "cell_type": "code",
      "metadata": {
        "colab": {
          "base_uri": "https://localhost:8080/",
          "height": 35
        },
        "id": "MlsfeKjEvz2R",
        "outputId": "b45e132e-f97b-48ea-8118-3ada11190122"
      },
      "source": [
        "kingdoms = ['Bacteria', 'Protozoa', 'Chromista', 'Plantae', 'Fungi', 'Animalia']\n",
        "kingdoms[0]"
      ],
      "execution_count": 20,
      "outputs": [
        {
          "output_type": "execute_result",
          "data": {
            "application/vnd.google.colaboratory.intrinsic+json": {
              "type": "string"
            },
            "text/plain": [
              "'Bacteria'"
            ]
          },
          "metadata": {},
          "execution_count": 20
        }
      ]
    },
    {
      "cell_type": "code",
      "metadata": {
        "colab": {
          "base_uri": "https://localhost:8080/",
          "height": 35
        },
        "id": "oiSAwffbw7jW",
        "outputId": "16f51c3b-2915-4289-c8d5-5a7cc98c8399"
      },
      "source": [
        "kingdoms[5]"
      ],
      "execution_count": 9,
      "outputs": [
        {
          "output_type": "execute_result",
          "data": {
            "application/vnd.google.colaboratory.intrinsic+json": {
              "type": "string"
            },
            "text/plain": [
              "'Animalia'"
            ]
          },
          "metadata": {},
          "execution_count": 9
        }
      ]
    },
    {
      "cell_type": "code",
      "metadata": {
        "colab": {
          "base_uri": "https://localhost:8080/"
        },
        "id": "jgtzJeppx-P3",
        "outputId": "da6b98d9-2ac2-46a7-9a77-eb391310b640"
      },
      "source": [
        "kingdoms[:3]"
      ],
      "execution_count": 11,
      "outputs": [
        {
          "output_type": "execute_result",
          "data": {
            "text/plain": [
              "['Bacteria', 'Protozoa', 'Chromista']"
            ]
          },
          "metadata": {},
          "execution_count": 11
        }
      ]
    },
    {
      "cell_type": "code",
      "metadata": {
        "colab": {
          "base_uri": "https://localhost:8080/"
        },
        "id": "i5L-IjrvyA8_",
        "outputId": "5b40e0ae-f157-4ce6-f490-db149c692cde"
      },
      "source": [
        "kingdoms[2:5]"
      ],
      "execution_count": 13,
      "outputs": [
        {
          "output_type": "execute_result",
          "data": {
            "text/plain": [
              "['Chromista', 'Plantae', 'Fungi']"
            ]
          },
          "metadata": {},
          "execution_count": 13
        }
      ]
    },
    {
      "cell_type": "code",
      "metadata": {
        "colab": {
          "base_uri": "https://localhost:8080/"
        },
        "id": "LecsdyteyDgX",
        "outputId": "861852c3-43d7-4e6e-917b-d289ce6aa513"
      },
      "source": [
        "kingdoms[4:]"
      ],
      "execution_count": 15,
      "outputs": [
        {
          "output_type": "execute_result",
          "data": {
            "text/plain": [
              "['Fungi', 'Animalia']"
            ]
          },
          "metadata": {},
          "execution_count": 15
        }
      ]
    },
    {
      "cell_type": "code",
      "metadata": {
        "colab": {
          "base_uri": "https://localhost:8080/"
        },
        "id": "jCN8gqvqyFuX",
        "outputId": "70a3f5ab-7f8a-45e7-b560-49506320ced0"
      },
      "source": [
        "kingdoms[1:0]"
      ],
      "execution_count": 18,
      "outputs": [
        {
          "output_type": "execute_result",
          "data": {
            "text/plain": [
              "[]"
            ]
          },
          "metadata": {},
          "execution_count": 18
        }
      ]
    },
    {
      "cell_type": "code",
      "metadata": {
        "id": "C8DgYnwy0PD2"
      },
      "source": [
        ""
      ],
      "execution_count": null,
      "outputs": []
    },
    {
      "cell_type": "markdown",
      "metadata": {
        "id": "UGFAAu-10MHi"
      },
      "source": [
        "**Câu 2**"
      ]
    },
    {
      "cell_type": "code",
      "metadata": {
        "colab": {
          "base_uri": "https://localhost:8080/",
          "height": 35
        },
        "id": "goSG3D5SyNFf",
        "outputId": "e725cd53-67fe-45b8-8ffd-46d7d7343755"
      },
      "source": [
        "kingdoms[-6]"
      ],
      "execution_count": 22,
      "outputs": [
        {
          "output_type": "execute_result",
          "data": {
            "application/vnd.google.colaboratory.intrinsic+json": {
              "type": "string"
            },
            "text/plain": [
              "'Bacteria'"
            ]
          },
          "metadata": {},
          "execution_count": 22
        }
      ]
    },
    {
      "cell_type": "code",
      "metadata": {
        "colab": {
          "base_uri": "https://localhost:8080/",
          "height": 35
        },
        "id": "sfKgTqEzyoWo",
        "outputId": "1f019cd6-1da1-4290-a9d9-dc97a8586e00"
      },
      "source": [
        "kingdoms[-1]"
      ],
      "execution_count": 23,
      "outputs": [
        {
          "output_type": "execute_result",
          "data": {
            "application/vnd.google.colaboratory.intrinsic+json": {
              "type": "string"
            },
            "text/plain": [
              "'Animalia'"
            ]
          },
          "metadata": {},
          "execution_count": 23
        }
      ]
    },
    {
      "cell_type": "code",
      "metadata": {
        "colab": {
          "base_uri": "https://localhost:8080/"
        },
        "id": "u2mBqTtyyrMX",
        "outputId": "9e5539cd-70bf-47d2-f294-b3ab26d6d69f"
      },
      "source": [
        "kingdoms[-6:-3]"
      ],
      "execution_count": 24,
      "outputs": [
        {
          "output_type": "execute_result",
          "data": {
            "text/plain": [
              "['Bacteria', 'Protozoa', 'Chromista']"
            ]
          },
          "metadata": {},
          "execution_count": 24
        }
      ]
    },
    {
      "cell_type": "code",
      "metadata": {
        "colab": {
          "base_uri": "https://localhost:8080/"
        },
        "id": "e7tlqGjXyuZH",
        "outputId": "4a24c196-8a26-4c3d-8551-5e6a586a0f6a"
      },
      "source": [
        "kingdoms[-4:-1]"
      ],
      "execution_count": 25,
      "outputs": [
        {
          "output_type": "execute_result",
          "data": {
            "text/plain": [
              "['Chromista', 'Plantae', 'Fungi']"
            ]
          },
          "metadata": {},
          "execution_count": 25
        }
      ]
    },
    {
      "cell_type": "code",
      "metadata": {
        "colab": {
          "base_uri": "https://localhost:8080/"
        },
        "id": "Kh6wI_S8yw83",
        "outputId": "351b0330-a0f4-4f2b-f2c2-4636f3195dbb"
      },
      "source": [
        "kingdoms[-2:]"
      ],
      "execution_count": 26,
      "outputs": [
        {
          "output_type": "execute_result",
          "data": {
            "text/plain": [
              "['Fungi', 'Animalia']"
            ]
          },
          "metadata": {},
          "execution_count": 26
        }
      ]
    },
    {
      "cell_type": "code",
      "metadata": {
        "colab": {
          "base_uri": "https://localhost:8080/"
        },
        "id": "op0mQoDuyzBX",
        "outputId": "6ccc9cf8-82ab-47bd-88be-19aaf8651855"
      },
      "source": [
        "kingdoms[-1:-2]"
      ],
      "execution_count": 27,
      "outputs": [
        {
          "output_type": "execute_result",
          "data": {
            "text/plain": [
              "[]"
            ]
          },
          "metadata": {},
          "execution_count": 27
        }
      ]
    },
    {
      "cell_type": "markdown",
      "metadata": {
        "id": "SlCtTfHl0XK0"
      },
      "source": [
        "**Câu 3**"
      ]
    },
    {
      "cell_type": "code",
      "metadata": {
        "colab": {
          "base_uri": "https://localhost:8080/"
        },
        "id": "a4Glct2fy1SP",
        "outputId": "ec53ddca-efc6-403c-9365-85d463004b61"
      },
      "source": [
        "appointments = ['9:00', '10:30', '14:00', '15:00', '15:30']\n",
        "appointments.append('16:30')\n",
        "appointments"
      ],
      "execution_count": 32,
      "outputs": [
        {
          "output_type": "execute_result",
          "data": {
            "text/plain": [
              "['9:00', '10:30', '14:00', '15:00', '15:30', '16:30']"
            ]
          },
          "metadata": {},
          "execution_count": 32
        }
      ]
    },
    {
      "cell_type": "code",
      "metadata": {
        "colab": {
          "base_uri": "https://localhost:8080/"
        },
        "id": "npY1LGvgzQH3",
        "outputId": "7f578555-9e01-4305-b1a3-19e951441a36"
      },
      "source": [
        "appointments += ['16:30']\n",
        "appointments"
      ],
      "execution_count": 36,
      "outputs": [
        {
          "output_type": "execute_result",
          "data": {
            "text/plain": [
              "['9:00',\n",
              " '10:30',\n",
              " '14:00',\n",
              " '15:00',\n",
              " '15:30',\n",
              " '16:30',\n",
              " '16:30',\n",
              " '16:30',\n",
              " '16:30',\n",
              " '16:30']"
            ]
          },
          "metadata": {},
          "execution_count": 36
        }
      ]
    },
    {
      "cell_type": "markdown",
      "metadata": {
        "id": "SMxDwJqn1hjR"
      },
      "source": [
        "The approach in (a) modifies the list. The one in (b) creates a new list"
      ]
    },
    {
      "cell_type": "markdown",
      "metadata": {
        "id": "eoNZW64E2oyG"
      },
      "source": [
        "**Câu 4**"
      ]
    },
    {
      "cell_type": "code",
      "metadata": {
        "colab": {
          "base_uri": "https://localhost:8080/"
        },
        "id": "Ec1aq67V1vrn",
        "outputId": "f1252732-1835-4614-a098-3805cb2ad23f"
      },
      "source": [
        "ids = [4353,2314,2956,3382,9362,3900]\n",
        "ids.remove(3382)\n",
        "ids"
      ],
      "execution_count": 41,
      "outputs": [
        {
          "output_type": "execute_result",
          "data": {
            "text/plain": [
              "[4353, 2314, 2956, 9362, 3900]"
            ]
          },
          "metadata": {},
          "execution_count": 41
        }
      ]
    },
    {
      "cell_type": "code",
      "metadata": {
        "colab": {
          "base_uri": "https://localhost:8080/"
        },
        "id": "425Ax6ZU2u9o",
        "outputId": "0c1f3034-7f7b-467f-d529-890e69c9c238"
      },
      "source": [
        "ids.index(9362)\n",
        "ids"
      ],
      "execution_count": 43,
      "outputs": [
        {
          "output_type": "execute_result",
          "data": {
            "text/plain": [
              "[4353, 2314, 2956, 9362, 3900]"
            ]
          },
          "metadata": {},
          "execution_count": 43
        }
      ]
    },
    {
      "cell_type": "code",
      "metadata": {
        "colab": {
          "base_uri": "https://localhost:8080/"
        },
        "id": "cFIpEE9B21N4",
        "outputId": "0324615e-7b79-43f0-fe5b-3b8204ad1322"
      },
      "source": [
        "ids.insert(ids.index(9362) + 1,4499)\n",
        "ids"
      ],
      "execution_count": 45,
      "outputs": [
        {
          "output_type": "execute_result",
          "data": {
            "text/plain": [
              "[4353, 2314, 2956, 9362, 4499, 4499, 3900]"
            ]
          },
          "metadata": {},
          "execution_count": 45
        }
      ]
    },
    {
      "cell_type": "code",
      "metadata": {
        "colab": {
          "base_uri": "https://localhost:8080/"
        },
        "id": "nJC2U8AI3EMg",
        "outputId": "2f479c1b-99f3-4132-9d8a-e927fee3114a"
      },
      "source": [
        "ids = ids +[5566, 1830]\n",
        "ids"
      ],
      "execution_count": 48,
      "outputs": [
        {
          "output_type": "execute_result",
          "data": {
            "text/plain": [
              "[4353, 2314, 2956, 9362, 4499, 4499, 3900, 5566, 1830, 5566, 1830]"
            ]
          },
          "metadata": {},
          "execution_count": 48
        }
      ]
    },
    {
      "cell_type": "markdown",
      "metadata": {
        "id": "xhV_5F3S3oPf"
      },
      "source": [
        "**Câu 5**"
      ]
    },
    {
      "cell_type": "code",
      "metadata": {
        "id": "tI3g7N4C3Rig"
      },
      "source": [
        "alkaline_earth_metals = [4,12,20,38,56,88]"
      ],
      "execution_count": 50,
      "outputs": []
    },
    {
      "cell_type": "code",
      "metadata": {
        "colab": {
          "base_uri": "https://localhost:8080/"
        },
        "id": "Zlu7Seo83uF_",
        "outputId": "94b9e36b-ee55-47e6-ce3c-97c5ac7a0c3f"
      },
      "source": [
        "alkaline_earth_metals[5]"
      ],
      "execution_count": 51,
      "outputs": [
        {
          "output_type": "execute_result",
          "data": {
            "text/plain": [
              "88"
            ]
          },
          "metadata": {},
          "execution_count": 51
        }
      ]
    },
    {
      "cell_type": "code",
      "metadata": {
        "colab": {
          "base_uri": "https://localhost:8080/"
        },
        "id": "VN8_Byxx3tLB",
        "outputId": "9d05f35a-3092-4b4e-84e0-31d360a45b96"
      },
      "source": [
        "alkaline_earth_metals[-1]"
      ],
      "execution_count": 52,
      "outputs": [
        {
          "output_type": "execute_result",
          "data": {
            "text/plain": [
              "88"
            ]
          },
          "metadata": {},
          "execution_count": 52
        }
      ]
    },
    {
      "cell_type": "code",
      "metadata": {
        "colab": {
          "base_uri": "https://localhost:8080/"
        },
        "id": "Ifjh7o5Z3rq0",
        "outputId": "782dfef9-6474-4cad-a45b-9f3e2bae984b"
      },
      "source": [
        "len(alkaline_earth_metals)"
      ],
      "execution_count": 54,
      "outputs": [
        {
          "output_type": "execute_result",
          "data": {
            "text/plain": [
              "6"
            ]
          },
          "metadata": {},
          "execution_count": 54
        }
      ]
    },
    {
      "cell_type": "code",
      "metadata": {
        "colab": {
          "base_uri": "https://localhost:8080/"
        },
        "id": "2K4ImSnl36yY",
        "outputId": "2ee2d62b-b00f-4426-db87-d407644cee67"
      },
      "source": [
        "max(alkaline_earth_metals)"
      ],
      "execution_count": 56,
      "outputs": [
        {
          "output_type": "execute_result",
          "data": {
            "text/plain": [
              "88"
            ]
          },
          "metadata": {},
          "execution_count": 56
        }
      ]
    },
    {
      "cell_type": "markdown",
      "metadata": {
        "id": "acnCSNDm4IUQ"
      },
      "source": [
        "**Câu 6**"
      ]
    },
    {
      "cell_type": "code",
      "metadata": {
        "id": "XbtejyIR39QD"
      },
      "source": [
        "temps=[25.2,16.8,31.4,23.9,28,22.5,16.9];"
      ],
      "execution_count": 60,
      "outputs": []
    },
    {
      "cell_type": "code",
      "metadata": {
        "colab": {
          "base_uri": "https://localhost:8080/"
        },
        "id": "JAkWvSW94RDg",
        "outputId": "39463d86-57b9-426c-88c4-cb8c669180c4"
      },
      "source": [
        "temps.sort()\n",
        "temps"
      ],
      "execution_count": 62,
      "outputs": [
        {
          "output_type": "execute_result",
          "data": {
            "text/plain": [
              "[16.8, 16.9, 22.5, 23.9, 25.2, 28, 31.4]"
            ]
          },
          "metadata": {},
          "execution_count": 62
        }
      ]
    },
    {
      "cell_type": "code",
      "metadata": {
        "colab": {
          "base_uri": "https://localhost:8080/"
        },
        "id": "MmRVYrmz4YCQ",
        "outputId": "093fdacf-7f7d-4ea7-bb42-b2f5a959c9fb"
      },
      "source": [
        "cool_temps = temps[0:2]\n",
        "cool_temps"
      ],
      "execution_count": 66,
      "outputs": [
        {
          "output_type": "execute_result",
          "data": {
            "text/plain": [
              "[16.8, 16.9]"
            ]
          },
          "metadata": {},
          "execution_count": 66
        }
      ]
    },
    {
      "cell_type": "code",
      "metadata": {
        "colab": {
          "base_uri": "https://localhost:8080/"
        },
        "id": "2daL1OVw4oRY",
        "outputId": "a361bdf8-0714-48f4-ee7a-8a03878ff216"
      },
      "source": [
        "warm_temps = temps [2:]\n",
        "warm_temps"
      ],
      "execution_count": 68,
      "outputs": [
        {
          "output_type": "execute_result",
          "data": {
            "text/plain": [
              "[22.5, 23.9, 25.2, 28, 31.4]"
            ]
          },
          "metadata": {},
          "execution_count": 68
        }
      ]
    },
    {
      "cell_type": "markdown",
      "metadata": {
        "id": "eubGlGQR4xOu"
      },
      "source": [
        "**Câu 7**"
      ]
    },
    {
      "cell_type": "code",
      "metadata": {
        "colab": {
          "base_uri": "https://localhost:8080/"
        },
        "id": "HzYdC16O4wVg",
        "outputId": "b73e81de-e711-4a45-bd89-e11c5151c2ad"
      },
      "source": [
        "def same_first_last(L:list) -> bool:\n",
        "  if(len(L) >= 2):\n",
        "    return L[0] == L[-1]\n",
        "\n",
        "print(same_first_last([3, 4, 2, 8, 3]))\n",
        "print(same_first_last(['apple', 'banana', 'pear']))\n",
        "print(same_first_last([4.0, 4.5]))"
      ],
      "execution_count": 71,
      "outputs": [
        {
          "output_type": "stream",
          "name": "stdout",
          "text": [
            "True\n",
            "False\n",
            "False\n"
          ]
        }
      ]
    },
    {
      "cell_type": "markdown",
      "metadata": {
        "id": "bwZLDImO648U"
      },
      "source": [
        "**Câu 8**"
      ]
    },
    {
      "cell_type": "code",
      "metadata": {
        "colab": {
          "base_uri": "https://localhost:8080/"
        },
        "id": "EkdGBlG-63dp",
        "outputId": "e87948ab-d865-4643-8ef7-057643d43a19"
      },
      "source": [
        "def is_longer(L1: list, L2: list) -> bool:\n",
        "    return len(L1) > len(L2)\n",
        "print( is_longer([1, 2, 3], [4, 5]))\n",
        "print( is_longer(['abcdef'], ['ab', 'cd', 'ef']))\n",
        "print(is_longer(['a', 'b', 'c'], [1, 2, 3]))"
      ],
      "execution_count": 73,
      "outputs": [
        {
          "output_type": "stream",
          "name": "stdout",
          "text": [
            "True\n",
            "False\n",
            "False\n"
          ]
        }
      ]
    },
    {
      "cell_type": "markdown",
      "metadata": {
        "id": "nCIXOv747A2_"
      },
      "source": [
        "**Câu 10**"
      ]
    },
    {
      "cell_type": "code",
      "metadata": {
        "colab": {
          "base_uri": "https://localhost:8080/"
        },
        "id": "IMNnTKkc7AMB",
        "outputId": "26e1216b-179a-4728-b78f-75b6dc1de785"
      },
      "source": [
        "units = [['km','miles','league'],['kg','pound','stone']]\n",
        "units[0]"
      ],
      "execution_count": 76,
      "outputs": [
        {
          "output_type": "execute_result",
          "data": {
            "text/plain": [
              "['km', 'miles', 'league']"
            ]
          },
          "metadata": {},
          "execution_count": 76
        }
      ]
    },
    {
      "cell_type": "code",
      "metadata": {
        "colab": {
          "base_uri": "https://localhost:8080/"
        },
        "id": "y_Kcdayt8asx",
        "outputId": "9cb62e14-28dc-45ac-b2e6-8de468130290"
      },
      "source": [
        "units[1]"
      ],
      "execution_count": 78,
      "outputs": [
        {
          "output_type": "execute_result",
          "data": {
            "text/plain": [
              "['kg', 'pound', 'stone']"
            ]
          },
          "metadata": {},
          "execution_count": 78
        }
      ]
    },
    {
      "cell_type": "code",
      "metadata": {
        "colab": {
          "base_uri": "https://localhost:8080/",
          "height": 35
        },
        "id": "iIMEXckf8h7Z",
        "outputId": "54274dff-53b4-47e4-e2bf-f6b7053c390a"
      },
      "source": [
        "units[0][0]"
      ],
      "execution_count": 80,
      "outputs": [
        {
          "output_type": "execute_result",
          "data": {
            "application/vnd.google.colaboratory.intrinsic+json": {
              "type": "string"
            },
            "text/plain": [
              "'km'"
            ]
          },
          "metadata": {},
          "execution_count": 80
        }
      ]
    },
    {
      "cell_type": "code",
      "metadata": {
        "colab": {
          "base_uri": "https://localhost:8080/",
          "height": 35
        },
        "id": "itmCmG6C8kQg",
        "outputId": "c6414396-fd36-4c8d-a9be-2107cab6fc83"
      },
      "source": [
        "units[1][0]"
      ],
      "execution_count": 82,
      "outputs": [
        {
          "output_type": "execute_result",
          "data": {
            "application/vnd.google.colaboratory.intrinsic+json": {
              "type": "string"
            },
            "text/plain": [
              "'kg'"
            ]
          },
          "metadata": {},
          "execution_count": 82
        }
      ]
    },
    {
      "cell_type": "code",
      "metadata": {
        "colab": {
          "base_uri": "https://localhost:8080/"
        },
        "id": "brIMR3T78n1h",
        "outputId": "53b235ec-ff7c-47a2-916b-67d7a24f0c37"
      },
      "source": [
        "units[0][1:]"
      ],
      "execution_count": 84,
      "outputs": [
        {
          "output_type": "execute_result",
          "data": {
            "text/plain": [
              "['miles', 'league']"
            ]
          },
          "metadata": {},
          "execution_count": 84
        }
      ]
    },
    {
      "cell_type": "code",
      "metadata": {
        "colab": {
          "base_uri": "https://localhost:8080/"
        },
        "id": "JOKJOQoE8wOy",
        "outputId": "f12706d5-85d8-4f6c-a541-38751e0f5a0e"
      },
      "source": [
        "units[1][0:2]"
      ],
      "execution_count": 86,
      "outputs": [
        {
          "output_type": "execute_result",
          "data": {
            "text/plain": [
              "['kg', 'pound']"
            ]
          },
          "metadata": {},
          "execution_count": 86
        }
      ]
    },
    {
      "cell_type": "markdown",
      "metadata": {
        "id": "a9Ke7MZy9x_g"
      },
      "source": [
        "**Câu 11**"
      ]
    },
    {
      "cell_type": "code",
      "metadata": {
        "colab": {
          "base_uri": "https://localhost:8080/"
        },
        "id": "rfqNM83I9xfh",
        "outputId": "07c3b485-e3a8-42d7-b275-899cf54a78f3"
      },
      "source": [
        "units[-2]"
      ],
      "execution_count": 88,
      "outputs": [
        {
          "output_type": "execute_result",
          "data": {
            "text/plain": [
              "['km', 'miles', 'league']"
            ]
          },
          "metadata": {},
          "execution_count": 88
        }
      ]
    },
    {
      "cell_type": "code",
      "metadata": {
        "colab": {
          "base_uri": "https://localhost:8080/"
        },
        "id": "NfkweXDH91wS",
        "outputId": "4fd315fb-41c3-49bc-fca8-7bc94235f985"
      },
      "source": [
        "units[-1]"
      ],
      "execution_count": 90,
      "outputs": [
        {
          "output_type": "execute_result",
          "data": {
            "text/plain": [
              "['kg', 'pound', 'stone']"
            ]
          },
          "metadata": {},
          "execution_count": 90
        }
      ]
    },
    {
      "cell_type": "code",
      "metadata": {
        "colab": {
          "base_uri": "https://localhost:8080/",
          "height": 35
        },
        "id": "SCjLtTT_94CC",
        "outputId": "d6f2a7da-87d1-4d03-a76e-888a90bdedaa"
      },
      "source": [
        "units[-2][-3]"
      ],
      "execution_count": 92,
      "outputs": [
        {
          "output_type": "execute_result",
          "data": {
            "application/vnd.google.colaboratory.intrinsic+json": {
              "type": "string"
            },
            "text/plain": [
              "'km'"
            ]
          },
          "metadata": {},
          "execution_count": 92
        }
      ]
    },
    {
      "cell_type": "code",
      "metadata": {
        "colab": {
          "base_uri": "https://localhost:8080/",
          "height": 35
        },
        "id": "DAP8u_Ih968K",
        "outputId": "25e783e7-90e5-41f4-e9e3-22973b8d7b3a"
      },
      "source": [
        "units[-1][-3]"
      ],
      "execution_count": 94,
      "outputs": [
        {
          "output_type": "execute_result",
          "data": {
            "application/vnd.google.colaboratory.intrinsic+json": {
              "type": "string"
            },
            "text/plain": [
              "'kg'"
            ]
          },
          "metadata": {},
          "execution_count": 94
        }
      ]
    },
    {
      "cell_type": "code",
      "metadata": {
        "colab": {
          "base_uri": "https://localhost:8080/"
        },
        "id": "K9iUVN0T99Bi",
        "outputId": "74a50394-737a-468f-ff24-c16b5f1558c1"
      },
      "source": [
        "units[-2][-2:]"
      ],
      "execution_count": 96,
      "outputs": [
        {
          "output_type": "execute_result",
          "data": {
            "text/plain": [
              "['miles', 'league']"
            ]
          },
          "metadata": {},
          "execution_count": 96
        }
      ]
    },
    {
      "cell_type": "code",
      "metadata": {
        "colab": {
          "base_uri": "https://localhost:8080/"
        },
        "id": "7f_oVmYD9_Xa",
        "outputId": "931e4ddf-24e1-440f-9cdc-0ac9dfc3326a"
      },
      "source": [
        "units[-1][:-1]"
      ],
      "execution_count": 98,
      "outputs": [
        {
          "output_type": "execute_result",
          "data": {
            "text/plain": [
              "['kg', 'pound']"
            ]
          },
          "metadata": {},
          "execution_count": 98
        }
      ]
    },
    {
      "cell_type": "markdown",
      "metadata": {
        "id": "_68SlaS--GwS"
      },
      "source": [
        "**Chương 9**"
      ]
    },
    {
      "cell_type": "markdown",
      "metadata": {
        "id": "q9llmMst-NZk"
      },
      "source": [
        "**Câu 1**"
      ]
    },
    {
      "cell_type": "code",
      "metadata": {
        "colab": {
          "base_uri": "https://localhost:8080/"
        },
        "id": "LALezYeT-GOC",
        "outputId": "7a637a2d-c1f1-45aa-b658-4b0e15577531"
      },
      "source": [
        "celegans_phenotypes = ['Emb','Him','Unc','Lon','Dpy','Sma']\n",
        "for phenotype in celegans_phenotypes:\n",
        "  print(phenotype)"
      ],
      "execution_count": 100,
      "outputs": [
        {
          "output_type": "stream",
          "name": "stdout",
          "text": [
            "Emb\n",
            "Him\n",
            "Unc\n",
            "Lon\n",
            "Dpy\n",
            "Sma\n"
          ]
        }
      ]
    },
    {
      "cell_type": "markdown",
      "metadata": {
        "id": "AK3sXd-RAsyc"
      },
      "source": [
        "**Câu 2**"
      ]
    },
    {
      "cell_type": "code",
      "metadata": {
        "colab": {
          "base_uri": "https://localhost:8080/"
        },
        "id": "6HVQEEG-AIXC",
        "outputId": "e9199b9a-4452-4763-f39d-998fa5743429"
      },
      "source": [
        "half_lives = [87.74, 24110.0,6537.0,14.4,376000.0]\n",
        "for value in half_lives:\n",
        "  print(value, end='')"
      ],
      "execution_count": 102,
      "outputs": [
        {
          "output_type": "stream",
          "name": "stdout",
          "text": [
            "87.7424110.06537.014.4376000.0"
          ]
        }
      ]
    },
    {
      "cell_type": "markdown",
      "metadata": {
        "id": "MPu3Tnx6BGJD"
      },
      "source": [
        "**Câu 3**"
      ]
    },
    {
      "cell_type": "code",
      "metadata": {
        "colab": {
          "base_uri": "https://localhost:8080/"
        },
        "id": "NA7nFzGnAuki",
        "outputId": "79a80c9d-f974-42dd-e7b6-7545fdabc26a"
      },
      "source": [
        "whales =[5,4,7,3,2,3,2,6,4,2,1,7,1,3]\n",
        "more_whales = []\n",
        "for count in whales:\n",
        "  more_whales.append(count + 1)\n",
        "more_whales"
      ],
      "execution_count": 104,
      "outputs": [
        {
          "output_type": "execute_result",
          "data": {
            "text/plain": [
              "[6, 5, 8, 4, 3, 4, 3, 7, 5, 3, 2, 8, 2, 4]"
            ]
          },
          "metadata": {},
          "execution_count": 104
        }
      ]
    },
    {
      "cell_type": "markdown",
      "metadata": {
        "id": "K-6MpIAsBybw"
      },
      "source": [
        "**Câu 4**"
      ]
    },
    {
      "cell_type": "code",
      "metadata": {
        "id": "UagzWIZNBxo8"
      },
      "source": [
        "alkaline_earth_metals = [[4, 9.012], [12, 24.305],[20, 40.078], [38, 87.62],[56, 137.327], [88, 226]]"
      ],
      "execution_count": 110,
      "outputs": []
    },
    {
      "cell_type": "code",
      "metadata": {
        "colab": {
          "base_uri": "https://localhost:8080/"
        },
        "id": "bvlMAnUrB-I7",
        "outputId": "a8ca02b5-9398-47c2-cf29-86dba3d29afc"
      },
      "source": [
        "for inner_list in alkaline_earth_metals:\n",
        "  print(inner_list[0])\n",
        "  print(inner_list[1])"
      ],
      "execution_count": 112,
      "outputs": [
        {
          "output_type": "stream",
          "name": "stdout",
          "text": [
            "4\n",
            "9.012\n",
            "12\n",
            "24.305\n",
            "20\n",
            "40.078\n",
            "38\n",
            "87.62\n",
            "56\n",
            "137.327\n",
            "88\n",
            "226\n"
          ]
        }
      ]
    },
    {
      "cell_type": "code",
      "metadata": {
        "id": "SPKVLplfG0HH"
      },
      "source": [
        ""
      ],
      "execution_count": null,
      "outputs": []
    },
    {
      "cell_type": "code",
      "metadata": {
        "id": "A8x3QpjVG0JN"
      },
      "source": [
        ""
      ],
      "execution_count": null,
      "outputs": []
    },
    {
      "cell_type": "code",
      "metadata": {
        "id": "p_XBpboPCByr"
      },
      "source": [
        "number_and_weight = []\n",
        "for inner_list in alkaline_earth_metals:\n",
        "  number_and_weight.append(inner_list[0])\n",
        "  number_and_weight.append(inner_list[1])"
      ],
      "execution_count": 114,
      "outputs": []
    },
    {
      "cell_type": "code",
      "metadata": {
        "id": "M_6zYHWNEQAT"
      },
      "source": [
        ""
      ],
      "execution_count": null,
      "outputs": []
    }
  ]
}